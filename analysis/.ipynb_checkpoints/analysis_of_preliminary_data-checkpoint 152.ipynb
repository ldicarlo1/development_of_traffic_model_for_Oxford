{
 "cells": [
  {
   "cell_type": "code",
   "execution_count": null,
   "id": "organized-refund",
   "metadata": {},
   "outputs": [],
   "source": [
    "import pandas as pd \n",
    "import numpy as np \n",
    "from datetime import datetime, timedelta\n",
    "import plotly.express as px\n",
    "import xarray as xr\n",
    "import ast\n",
    "import matplotlib.pyplot as plt \n",
    "from skimage import data, color"
   ]
  },
  {
   "cell_type": "code",
   "execution_count": null,
   "id": "appreciated-friday",
   "metadata": {},
   "outputs": [],
   "source": [
    "# collect preliminary data which is a 12-hour period on 15-minute increments\n",
    "\n",
    "# empty traffic/time dataframe to be filled\n",
    "traffic_data = []\n",
    "time = []\n",
    "\n",
    "# initial data file date\n",
    "date = datetime(2021,6,2,12,15)\n",
    "\n",
    "for i in range(0,47):\n",
    "    date_index = date + timedelta(minutes=15*i)\n",
    "    time.append(date_index)\n",
    "    datetimestamp = date_index.strftime(\"%Y%m%d%H%M\")\n",
    "    file = f\"oxford_traffic_{datetimestamp}.csv\"\n",
    "    traffic_matrix = pd.read_csv(\"/Users/lucadicarlo/Documents/OxfordBrookes/dissertation/development_of_traffic_model_for_Oxford/model/data/traffic_data/\"+file).values\n",
    "    traffic_data.append(traffic_matrix)\n",
    "traffic_data = np.array(traffic_data)\n"
   ]
  },
  {
   "cell_type": "code",
   "execution_count": null,
   "id": "suited-complex",
   "metadata": {},
   "outputs": [],
   "source": [
    "# pull traffic metrics average for city\n",
    "sp = traffic_data[:,:,4].mean(axis=1)\n",
    "su = traffic_data[:,:,5].mean(axis=1)\n",
    "ffs = traffic_data[:,:,6].mean(axis=1)\n",
    "jf = traffic_data[:,:,7].mean(axis=1)\n",
    "lons = traffic_data[0,:,3]\n",
    "lats = traffic_data[0,:,2]\n",
    "\n",
    "flow = sp/ffs"
   ]
  },
  {
   "cell_type": "code",
   "execution_count": null,
   "id": "second-stake",
   "metadata": {},
   "outputs": [],
   "source": [
    "px.line(x=time,y=sp, title=\"Average 15-minute Traffic Speed Oxford: June 2, 2021 (12:00 - 23:45 )\", labels={\"x\":\"time\",\"y\":\"speed (km/h)\"})"
   ]
  },
  {
   "cell_type": "markdown",
   "id": "buried-republican",
   "metadata": {},
   "source": [
    "The above suggests that there is a clear dropoff in traffic speed around 16:00 - 18:00 due to the evening rush hour which is expected.  "
   ]
  },
  {
   "cell_type": "code",
   "execution_count": null,
   "id": "electrical-shoot",
   "metadata": {},
   "outputs": [],
   "source": [
    "# pull traffic metrics average for city\n",
    "sp = traffic_data[0,:,4]\n",
    "su = traffic_data[0,:,5]\n",
    "ffs = traffic_data[0,:,6]\n",
    "jf = traffic_data[0,:,7]\n",
    "lons = traffic_data[0,:,3]\n",
    "lats = traffic_data[0,:,2]\n",
    "\n",
    "flow = sp/ffs\n"
   ]
  },
  {
   "cell_type": "markdown",
   "id": "alike-desperate",
   "metadata": {},
   "source": [
    "## Image to matrix "
   ]
  },
  {
   "cell_type": "markdown",
   "id": "minimal-military",
   "metadata": {},
   "source": [
    "## Lat/lon box"
   ]
  },
  {
   "cell_type": "code",
   "execution_count": null,
   "id": "administrative-brooks",
   "metadata": {},
   "outputs": [],
   "source": [
    "file = \"oxford_traffic_202106101430.csv\"\n",
    "traffic_matrix = pd.read_csv(\"/Users/lucadicarlo/Documents/OxfordBrookes/dissertation/development_of_traffic_model_for_Oxford/model/data/traffic_data/\"+file)\n",
    "\n",
    "loni = []\n",
    "lati=[]\n",
    "for i in range(len(traffic_matrix)):\n",
    "    lati.append(ast.literal_eval(traffic_matrix.lats.iloc[i]))\n",
    "    loni.append(ast.literal_eval(traffic_matrix.lons.iloc[i]))\n",
    "\n",
    "traffic_matrix['loni'] = loni\n",
    "traffic_matrix['lati'] = lati\n"
   ]
  },
  {
   "cell_type": "code",
   "execution_count": null,
   "id": "functioning-cabin",
   "metadata": {},
   "outputs": [],
   "source": [
    "# Woodstock road intersection\n",
    "top=51.798433\n",
    "bottom=51.791451\n",
    "right=-1.281979\n",
    "left=-1.289524\n",
    "\n",
    "bbox_data=[]\n",
    "for i in range(len(traffic_matrix)):\n",
    "    lonmin = np.array(traffic_matrix.loni.iloc[i]).min()\n",
    "    lonmax = np.array(traffic_matrix.loni.iloc[i]).max()\n",
    "    latmin = np.array(traffic_matrix.lati.iloc[i]).min()\n",
    "    latmax = np.array(traffic_matrix.lati.iloc[i]).max()\n",
    "    if latmax<=top and latmin >=bottom and lonmin >= left and lonmax <=right:\n",
    "        bbox_data.append(traffic_matrix.iloc[i].values)\n",
    "bbox_data = pd.DataFrame(np.array(bbox_data))\n",
    "bbox_data.columns = traffic_matrix.columns"
   ]
  },
  {
   "cell_type": "code",
   "execution_count": null,
   "id": "pursuant-monitor",
   "metadata": {},
   "outputs": [],
   "source": [
    "from matplotlib.backends.backend_agg import FigureCanvas\n",
    "colors = plt.cm.gray(np.linspace(0,1,256))\n",
    "colors= colors[:,:3]\n",
    "colors = np.round(colors,8)\n",
    "\n",
    "fig=plt.figure(dpi=50)\n",
    "#plt.plot(np.linspace(0,10,10),np.linspace(0,10,10))\n",
    "plt.grid(False)\n",
    "for i in range(0,len(bbox_data.lats)):\n",
    "    #plt.plot(ast.literal_eval(lons[i]),ast.literal_eval(lats[i]),linewidth=0.5)\n",
    "    plt.plot(ast.literal_eval(bbox_data.lons[i]),ast.literal_eval(bbox_data.lats[i]), color=colors[int(sp[i])],linewidth=0.5)\n",
    "    plt.xlim(-1.281979,-1.299524)\n",
    "    '''if(flow[i]<0.25):\n",
    "        plt.plot(ast.literal_eval(lons[i]),ast.literal_eval(lats[i]), color=,linewidth=0.5)\n",
    "    elif(flow[i]<0.5):\n",
    "        plt.plot(ast.literal_eval(lons[i]),ast.literal_eval(lats[i]), color=[(0.3,0.3,0.5)],linewidth=0.5)\n",
    "    elif(flow[i]<0.75):\n",
    "        plt.plot(ast.literal_eval(lons[i]),ast.literal_eval(lats[i]), c='yellow',linewidth=0.5)\n",
    "    else:\n",
    "        plt.plot(ast.literal_eval(lons[i]),ast.literal_eval(lats[i]), c='green',linewidth=0.5)\n",
    "    '''\n",
    "\n",
    "plt.axis('on')\n",
    "#plt.style.use('dark_background')\n",
    "plt.show()\n",
    "\n",
    "fig.canvas.draw()\n",
    "data = np.frombuffer(fig.canvas.tostring_rgb(), dtype=np.uint8)\n",
    "image = data.reshape(fig.canvas.get_width_height()[::-1] + (3,))\n",
    "image = image/255\n",
    "gray_image = color.rgb2gray(image)\n",
    "\n",
    "gray_image2 = gray_image\n",
    "for row in range(0,len(image)):\n",
    "    #print(row)\n",
    "    for col in range(0,len(image[0,:])):\n",
    "        ind = np.where(colors == np.round(image[row,col],8))[0][0]\n",
    "        gray_image2[row,col] = ind\n",
    "        "
   ]
  },
  {
   "cell_type": "code",
   "execution_count": null,
   "id": "crucial-cliff",
   "metadata": {},
   "outputs": [],
   "source": [
    "img = np.where(gray_image2==255,0,gray_image2)\n",
    "plt.rcParams[\"figure.figsize\"] = (5,10)\n",
    "plt.matshow(img)"
   ]
  },
  {
   "cell_type": "code",
   "execution_count": null,
   "id": "quick-contrary",
   "metadata": {},
   "outputs": [],
   "source": [
    "img = pd.DataFrame(img)\n",
    "img.to_csv(\"a34_grid.csv\")"
   ]
  },
  {
   "cell_type": "code",
   "execution_count": null,
   "id": "limited-suggestion",
   "metadata": {},
   "outputs": [],
   "source": [
    "bbox_data.to_csv(\"a34_intersection.csv\")"
   ]
  },
  {
   "cell_type": "code",
   "execution_count": null,
   "id": "tropical-engine",
   "metadata": {},
   "outputs": [],
   "source": []
  }
 ],
 "metadata": {
  "kernelspec": {
   "display_name": "Python 3",
   "language": "python",
   "name": "python3"
  },
  "language_info": {
   "codemirror_mode": {
    "name": "ipython",
    "version": 3
   },
   "file_extension": ".py",
   "mimetype": "text/x-python",
   "name": "python",
   "nbconvert_exporter": "python",
   "pygments_lexer": "ipython3",
   "version": "3.8.6"
  }
 },
 "nbformat": 4,
 "nbformat_minor": 5
}
